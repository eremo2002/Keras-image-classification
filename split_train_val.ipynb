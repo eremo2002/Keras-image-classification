{
 "cells": [
  {
   "cell_type": "code",
   "execution_count": 20,
   "metadata": {},
   "outputs": [
    {
     "data": {
      "text/plain": [
       "'channels_last'"
      ]
     },
     "execution_count": 20,
     "metadata": {},
     "output_type": "execute_result"
    }
   ],
   "source": [
    "import gc\n",
    "import os\n",
    "import warnings\n",
    "import numpy as np \n",
    "import pandas as pd\n",
    "import seaborn as sns\n",
    "import matplotlib.pyplot as plt\n",
    "from tqdm import tqdm\n",
    "\n",
    "from keras import backend as K\n",
    "warnings.filterwarnings(action='ignore')\n",
    "\n",
    "K.image_data_format()"
   ]
  },
  {
   "cell_type": "code",
   "execution_count": 21,
   "metadata": {},
   "outputs": [
    {
     "data": {
      "text/plain": [
       "['faces_images.zip',\n",
       " 'test_vision.csv',\n",
       " 'faces_images',\n",
       " 'sample_output_vision.csv',\n",
       " 'train_vision.csv']"
      ]
     },
     "execution_count": 21,
     "metadata": {},
     "output_type": "execute_result"
    }
   ],
   "source": [
    "DATA_PATH = './job_fair_programmers/'\n",
    "os.listdir(DATA_PATH)"
   ]
  },
  {
   "cell_type": "code",
   "execution_count": 22,
   "metadata": {},
   "outputs": [],
   "source": [
    "df_train = pd.read_csv(os.path.join(DATA_PATH, 'train_vision.csv'))\n",
    "df_test  = pd.read_csv(os.path.join(DATA_PATH, 'test_vision.csv'))"
   ]
  },
  {
   "cell_type": "code",
   "execution_count": 23,
   "metadata": {},
   "outputs": [
    {
     "data": {
      "text/html": [
       "<div>\n",
       "<style scoped>\n",
       "    .dataframe tbody tr th:only-of-type {\n",
       "        vertical-align: middle;\n",
       "    }\n",
       "\n",
       "    .dataframe tbody tr th {\n",
       "        vertical-align: top;\n",
       "    }\n",
       "\n",
       "    .dataframe thead th {\n",
       "        text-align: right;\n",
       "    }\n",
       "</style>\n",
       "<table border=\"1\" class=\"dataframe\">\n",
       "  <thead>\n",
       "    <tr style=\"text-align: right;\">\n",
       "      <th></th>\n",
       "      <th>filename</th>\n",
       "      <th>label</th>\n",
       "    </tr>\n",
       "  </thead>\n",
       "  <tbody>\n",
       "    <tr>\n",
       "      <th>0</th>\n",
       "      <td>face_3267.png</td>\n",
       "      <td>1</td>\n",
       "    </tr>\n",
       "    <tr>\n",
       "      <th>1</th>\n",
       "      <td>face_587.png</td>\n",
       "      <td>4</td>\n",
       "    </tr>\n",
       "    <tr>\n",
       "      <th>2</th>\n",
       "      <td>face_6585.png</td>\n",
       "      <td>4</td>\n",
       "    </tr>\n",
       "    <tr>\n",
       "      <th>3</th>\n",
       "      <td>face_3094.png</td>\n",
       "      <td>4</td>\n",
       "    </tr>\n",
       "    <tr>\n",
       "      <th>4</th>\n",
       "      <td>face_1170.png</td>\n",
       "      <td>4</td>\n",
       "    </tr>\n",
       "  </tbody>\n",
       "</table>\n",
       "</div>"
      ],
      "text/plain": [
       "        filename  label\n",
       "0  face_3267.png      1\n",
       "1   face_587.png      4\n",
       "2  face_6585.png      4\n",
       "3  face_3094.png      4\n",
       "4  face_1170.png      4"
      ]
     },
     "execution_count": 23,
     "metadata": {},
     "output_type": "execute_result"
    }
   ],
   "source": [
    "df_train.head()\n"
   ]
  },
  {
   "cell_type": "code",
   "execution_count": 24,
   "metadata": {},
   "outputs": [
    {
     "data": {
      "text/html": [
       "<div>\n",
       "<style scoped>\n",
       "    .dataframe tbody tr th:only-of-type {\n",
       "        vertical-align: middle;\n",
       "    }\n",
       "\n",
       "    .dataframe tbody tr th {\n",
       "        vertical-align: top;\n",
       "    }\n",
       "\n",
       "    .dataframe thead th {\n",
       "        text-align: right;\n",
       "    }\n",
       "</style>\n",
       "<table border=\"1\" class=\"dataframe\">\n",
       "  <thead>\n",
       "    <tr style=\"text-align: right;\">\n",
       "      <th></th>\n",
       "      <th>filename</th>\n",
       "    </tr>\n",
       "  </thead>\n",
       "  <tbody>\n",
       "    <tr>\n",
       "      <th>0</th>\n",
       "      <td>face_2624.png</td>\n",
       "    </tr>\n",
       "    <tr>\n",
       "      <th>1</th>\n",
       "      <td>face_3385.png</td>\n",
       "    </tr>\n",
       "    <tr>\n",
       "      <th>2</th>\n",
       "      <td>face_5015.png</td>\n",
       "    </tr>\n",
       "    <tr>\n",
       "      <th>3</th>\n",
       "      <td>face_6715.png</td>\n",
       "    </tr>\n",
       "    <tr>\n",
       "      <th>4</th>\n",
       "      <td>face_6171.png</td>\n",
       "    </tr>\n",
       "  </tbody>\n",
       "</table>\n",
       "</div>"
      ],
      "text/plain": [
       "        filename\n",
       "0  face_2624.png\n",
       "1  face_3385.png\n",
       "2  face_5015.png\n",
       "3  face_6715.png\n",
       "4  face_6171.png"
      ]
     },
     "execution_count": 24,
     "metadata": {},
     "output_type": "execute_result"
    }
   ],
   "source": [
    "df_test.head()"
   ]
  },
  {
   "cell_type": "code",
   "execution_count": 25,
   "metadata": {},
   "outputs": [
    {
     "name": "stdout",
     "output_type": "stream",
     "text": [
      "Number of Train Data : 5850\n",
      "Number of Train Data : 2000\n"
     ]
    }
   ],
   "source": [
    "# Data 갯수\n",
    "print(\"Number of Train Data : {}\".format(df_train.shape[0]))\n",
    "print(\"Number of Train Data : {}\".format(df_test.shape[0]))"
   ]
  },
  {
   "cell_type": "code",
   "execution_count": 26,
   "metadata": {},
   "outputs": [
    {
     "data": {
      "image/png": "[encoded data removed]",
      "text/plain": [
       "<Figure size 864x432 with 1 Axes>"
      ]
     },
     "metadata": {
      "needs_background": "light"
     },
     "output_type": "display_data"
    }
   ],
   "source": [
    "plt.figure(figsize=(12, 6))\n",
    "sns.countplot(df_train[\"label\"], order=df_train[\"label\"].value_counts(ascending=True).index)\n",
    "plt.title(\"Number of data per each class\")\n",
    "plt.show()"
   ]
  },
  {
   "cell_type": "markdown",
   "metadata": {},
   "source": [
    "## Train set으로부터 validation 나누기"
   ]
  },
  {
   "cell_type": "code",
   "execution_count": 38,
   "metadata": {},
   "outputs": [
    {
     "name": "stdout",
     "output_type": "stream",
     "text": [
      "(4680, 2)\n",
      "(1170, 2)\n"
     ]
    }
   ],
   "source": [
    "from sklearn.model_selection import train_test_split\n",
    "\n",
    "df_train[\"label\"] = df_train[\"label\"].astype('str')\n",
    "\n",
    "df_train = df_train[['filename', 'label']]\n",
    "\n",
    "its = np.arange(df_train.shape[0])\n",
    "train_idx, val_idx = train_test_split(its, train_size = 0.8, random_state=42)\n",
    "\n",
    "X_train = df_train.iloc[train_idx, :]\n",
    "X_val = df_train.iloc[val_idx, :]\n",
    "\n",
    "print(X_train.shape)\n",
    "print(X_val.shape)\n"
   ]
  },
  {
   "cell_type": "code",
   "execution_count": 39,
   "metadata": {
    "scrolled": true
   },
   "outputs": [
    {
     "name": "stdout",
     "output_type": "stream",
     "text": [
      "           filename label\n",
      "4862  face_4335.png     2\n",
      "3268  face_1643.png     2\n",
      "5718  face_4709.png     1\n",
      "3384  face_5479.png     4\n",
      "113   face_6863.png     1\n",
      "4962  face_6885.png     6\n",
      "5625  face_6810.png     4\n",
      "1695  face_4624.png     4\n",
      "3754   face_369.png     1\n",
      "5357  face_4274.png     2\n",
      "4470  face_3274.png     4\n",
      "1662   face_229.png     5\n",
      "1684  face_3700.png     4\n",
      "5193  face_1535.png     2\n",
      "2516  face_6884.png     1\n",
      "4228  face_4478.png     5\n",
      "2313   face_563.png     6\n",
      "4253  face_2159.png     5\n",
      "3435  face_5903.png     1\n",
      "252   face_5921.png     1\n",
      "350   face_6804.png     4\n",
      "2618  face_2612.png     4\n",
      "2402  face_5988.png     4\n",
      "457   face_5640.png     2\n",
      "3700  face_3123.png     1\n",
      "479   face_3969.png     1\n",
      "1114  face_1563.png     4\n",
      "798   face_4398.png     4\n",
      "5098  face_2973.png     1\n",
      "1586  face_7849.png     4\n",
      "...             ...   ...\n",
      "1082  face_7795.png     4\n",
      "474   face_7761.png     1\n",
      "2904   face_502.png     1\n",
      "4843  face_1730.png     4\n",
      "4117   face_638.png     1\n",
      "3385  face_7822.png     1\n",
      "4555  face_7483.png     6\n",
      "1184  face_4697.png     4\n",
      "5051  face_2606.png     4\n",
      "5311  face_3050.png     4\n",
      "2433  face_7916.png     1\n",
      "5611  face_7212.png     3\n",
      "2391   face_671.png     6\n",
      "769   face_2820.png     4\n",
      "1685  face_3859.png     4\n",
      "130   face_7997.png     1\n",
      "2919  face_5503.png     1\n",
      "3171  face_2855.png     1\n",
      "3444  face_5377.png     4\n",
      "5578  face_7735.png     3\n",
      "4426   face_911.png     4\n",
      "5334  face_2769.png     4\n",
      "466   face_2030.png     1\n",
      "5734  face_1771.png     1\n",
      "3092  face_6143.png     1\n",
      "3772  face_4655.png     6\n",
      "5191  face_4262.png     1\n",
      "5226  face_3254.png     1\n",
      "5390  face_5021.png     4\n",
      "860   face_6789.png     1\n",
      "\n",
      "[4680 rows x 2 columns]\n"
     ]
    }
   ],
   "source": [
    "print(X_train)"
   ]
  },
  {
   "cell_type": "code",
   "execution_count": 40,
   "metadata": {
    "scrolled": true
   },
   "outputs": [
    {
     "name": "stdout",
     "output_type": "stream",
     "text": [
      "           filename label\n",
      "1374  face_2532.png     1\n",
      "808   face_2537.png     2\n",
      "4842   face_926.png     4\n",
      "23    face_7609.png     1\n",
      "755    face_972.png     4\n",
      "3326  face_6291.png     4\n",
      "3815  face_6288.png     4\n",
      "3090  face_5075.png     1\n",
      "5039  face_5092.png     4\n",
      "3795  face_2751.png     4\n",
      "1244  face_6025.png     4\n",
      "1095  face_5843.png     2\n",
      "4861  face_5673.png     4\n",
      "5478  face_5722.png     1\n",
      "4763  face_4902.png     4\n",
      "4099  face_2302.png     1\n",
      "1242    face_43.png     4\n",
      "764   face_5937.png     1\n",
      "2847   face_139.png     1\n",
      "1103   face_902.png     1\n",
      "2287   face_955.png     1\n",
      "881   face_4563.png     6\n",
      "4985  face_3915.png     4\n",
      "5214  face_2209.png     4\n",
      "4235  face_4882.png     4\n",
      "1782  face_1069.png     4\n",
      "3382  face_2725.png     1\n",
      "5049  face_2782.png     1\n",
      "4149  face_6572.png     1\n",
      "408     face_37.png     4\n",
      "...             ...   ...\n",
      "3826  face_5067.png     4\n",
      "1454  face_7640.png     1\n",
      "1756  face_6309.png     2\n",
      "693   face_7412.png     4\n",
      "2714  face_5205.png     4\n",
      "1983   face_453.png     4\n",
      "287   face_5681.png     4\n",
      "3781  face_7973.png     4\n",
      "4567  face_2496.png     4\n",
      "2937  face_1816.png     1\n",
      "2680  face_1966.png     1\n",
      "4916  face_5858.png     1\n",
      "4595    face_87.png     5\n",
      "2418  face_7268.png     4\n",
      "5692  face_5685.png     4\n",
      "4063  face_6883.png     4\n",
      "4710  face_2197.png     1\n",
      "210   face_3344.png     4\n",
      "5658  face_3927.png     1\n",
      "4503  face_1531.png     1\n",
      "1194  face_4185.png     6\n",
      "73      face_99.png     4\n",
      "5259  face_7720.png     1\n",
      "3898  face_5556.png     4\n",
      "2574  face_5769.png     1\n",
      "2742   face_345.png     4\n",
      "3834  face_7407.png     6\n",
      "5199  face_5513.png     4\n",
      "3253   face_949.png     1\n",
      "5455  face_6577.png     4\n",
      "\n",
      "[1170 rows x 2 columns]\n"
     ]
    }
   ],
   "source": [
    "print(X_val)"
   ]
  },
  {
   "cell_type": "code",
   "execution_count": 42,
   "metadata": {},
   "outputs": [],
   "source": [
    "X_train.to_csv(\"train.csv\", columns=['filename', 'label'], index=False)"
   ]
  },
  {
   "cell_type": "code",
   "execution_count": 43,
   "metadata": {},
   "outputs": [],
   "source": [
    "X_val.to_csv(\"val.csv\", columns=['filename', 'label'], index=False)"
   ]
  },
  {
   "cell_type": "code",
   "execution_count": null,
   "metadata": {},
   "outputs": [],
   "source": []
  }
 ],
 "metadata": {
  "kernelspec": {
   "display_name": "Python 3",
   "language": "python",
   "name": "python3"
  },
  "language_info": {
   "codemirror_mode": {
    "name": "ipython",
    "version": 3
   },
   "file_extension": ".py",
   "mimetype": "text/x-python",
   "name": "python",
   "nbconvert_exporter": "python",
   "pygments_lexer": "ipython3",
   "version": "3.7.5"
  }
 },
 "nbformat": 4,
 "nbformat_minor": 2
}
